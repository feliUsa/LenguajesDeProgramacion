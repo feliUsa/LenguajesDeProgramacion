{
  "nbformat": 4,
  "nbformat_minor": 0,
  "metadata": {
    "colab": {
      "provenance": []
    },
    "kernelspec": {
      "name": "python3",
      "display_name": "Python 3"
    },
    "language_info": {
      "name": "python"
    }
  },
  "cells": [
    {
      "cell_type": "markdown",
      "source": [
        "# Implementación Algoritmo CYK"
      ],
      "metadata": {
        "id": "RuwMOc_woG63"
      }
    },
    {
      "cell_type": "code",
      "execution_count": 4,
      "metadata": {
        "id": "z8agzZzdoDFZ"
      },
      "outputs": [],
      "source": [
        "def algoritmoCYK(grammar, word):\n",
        "    \"\"\"\n",
        "    Implementa el algoritmo CYK.\n",
        "\n",
        "    Args:\n",
        "        grammar: Gramática en forma normal de Chomsky (CNF), representada como un diccionario.\n",
        "        word: La palabra que se quiere analizar.\n",
        "\n",
        "    Returns:\n",
        "        True si la palabra puede generarse a partir de la gramática, False si no.\n",
        "    \"\"\"\n",
        "\n",
        "    n = len(word)\n",
        "    non_terminals = list(grammar.keys())\n",
        "    table = [[set() for _ in range(n)] for _ in range(n)]\n",
        "\n",
        "    # Rellenar la tabla para las producciones de longitud 1 (diagonal)\n",
        "    for i in range(n):\n",
        "        for non_terminal, productions in grammar.items():\n",
        "            for production in productions:\n",
        "                if len(production) == 1 and production[0] == word[i]:\n",
        "                    table[i][i].add(non_terminal)\n",
        "\n",
        "    # Rellenar la tabla para las producciones de longitud > 1\n",
        "    for length in range(2, n+1):\n",
        "        for start in range(n-length+1):\n",
        "            end = start + length - 1\n",
        "            for split in range(start, end):\n",
        "                for non_terminal, productions in grammar.items():\n",
        "                    for production in productions:\n",
        "                        if len(production) == 2:\n",
        "                            left, right = production\n",
        "                            if left in table[start][split] and right in table[split+1][end]:\n",
        "                                table[start][end].add(non_terminal)\n",
        "\n",
        "    # Verificar si el símbolo inicial está en la tabla\n",
        "    return 'S' in table[0][n-1]\n"
      ]
    },
    {
      "cell_type": "code",
      "source": [
        "import time, random\n",
        "\n",
        "def probar_complejidad(grammar, max_len):\n",
        "    \"\"\"\n",
        "    Prueba la complejidad temporal del algoritmo CYK midiendo el tiempo de ejecución para distintas longitudes de palabra.\n",
        "\n",
        "    Args:\n",
        "        grammar: Gramática en forma normal de Chomsky (CNF).\n",
        "        max_len: Longitud máxima de palabra a probar.\n",
        "\n",
        "    Returns:\n",
        "        Una lista de tiempos de ejecución para palabras de distintas longitudes.\n",
        "    \"\"\"\n",
        "    tiempos = []\n",
        "\n",
        "    for length in range(1, max_len + 1):\n",
        "        word = ''.join(random.choice('ab') for _ in range(length))\n",
        "\n",
        "        start_time = time.time()\n",
        "        algoritmoCYK(grammar, word)\n",
        "        end_time = time.time()\n",
        "\n",
        "        tiempos.append((length, end_time - start_time))\n",
        "\n",
        "    return tiempos\n"
      ],
      "metadata": {
        "id": "e2Xv4PinoOWP"
      },
      "execution_count": 6,
      "outputs": []
    },
    {
      "cell_type": "code",
      "source": [
        "def demostrar_complejidad_O_n3(grammar, max_len):\n",
        "    \"\"\"\n",
        "    Demuestra la complejidad O(n^3) contando las operaciones clave del algoritmo CYK.\n",
        "\n",
        "    Args:\n",
        "        grammar: Gramática en forma normal de Chomsky (CNF).\n",
        "        max_len: Longitud máxima de palabra a probar.\n",
        "\n",
        "    Returns:\n",
        "        Una lista de pares (longitud, operaciones clave).\n",
        "    \"\"\"\n",
        "\n",
        "    def algoritmoCYK_contando_operaciones(grammar, word):\n",
        "        \"\"\"\n",
        "        Algoritmo CYK modificado para contar operaciones clave.\n",
        "\n",
        "        Args:\n",
        "            grammar: Gramática en CNF.\n",
        "            word: La palabra a analizar.\n",
        "\n",
        "        Returns:\n",
        "            (resultado, operaciones): True si la palabra puede generarse, número de operaciones clave.\n",
        "        \"\"\"\n",
        "\n",
        "        n = len(word)\n",
        "        operaciones_clave = 0\n",
        "        table = [[set() for _ in range(n)] for _ in range(n)]\n",
        "\n",
        "        # Fase 1: Llenar la tabla para las producciones de longitud 1\n",
        "        for i in range(n):\n",
        "            for non_terminal, productions in grammar.items():\n",
        "                for production in productions:\n",
        "                    if len(production) == 1 and production[0] == word[i]:\n",
        "                        table[i][i].add(non_terminal)\n",
        "                        operaciones_clave += 1\n",
        "\n",
        "        # Fase 2: Llenar la tabla para las producciones de longitud > 1\n",
        "        for length in range(2, n+1):\n",
        "            for start in range(n-length+1):\n",
        "                end = start + length - 1\n",
        "                for split in range(start, end):\n",
        "                    for non_terminal, productions in grammar.items():\n",
        "                        for production in productions:\n",
        "                            if len(production) == 2:\n",
        "                                left, right = production\n",
        "                                if left in table[start][split] and right in table[split+1][end]:\n",
        "                                    table[start][end].add(non_terminal)\n",
        "                                    operaciones_clave += 1\n",
        "\n",
        "        return 'S' in table[0][n-1], operaciones_clave\n",
        "\n",
        "    # Probar para diferentes longitudes\n",
        "    resultados = []\n",
        "    for length in range(1, max_len + 1):\n",
        "        word = ''.join(random.choice('ab') for _ in range(length))\n",
        "        _, operaciones_clave = algoritmoCYK_contando_operaciones(grammar, word)\n",
        "        resultados.append((length, operaciones_clave, length ** 3))\n",
        "\n",
        "    return resultados\n"
      ],
      "metadata": {
        "id": "YiT8Kc3cpMyj"
      },
      "execution_count": 7,
      "outputs": []
    },
    {
      "cell_type": "code",
      "source": [
        "grammar = {\n",
        "    'S': [['A', 'B'], ['B', 'C']],\n",
        "    'A': [['B', 'A'], ['a']],\n",
        "    'B': [['C', 'C'], ['b']],\n",
        "    'C': [['A', 'B'], ['a']]\n",
        "}\n"
      ],
      "metadata": {
        "id": "f1PtskjBpS-r"
      },
      "execution_count": 9,
      "outputs": []
    },
    {
      "cell_type": "code",
      "source": [
        "tiempos = probar_complejidad(grammar, max_len=10)\n",
        "for longitud, tiempo in tiempos:\n",
        "    print(f\"Longitud: {longitud}, Tiempo de ejecución: {tiempo:.6f} segundos\")"
      ],
      "metadata": {
        "colab": {
          "base_uri": "https://localhost:8080/"
        },
        "id": "N-XDxrB8pUNM",
        "outputId": "d6a84673-4df7-45e7-f6ff-8bba0aa320ae"
      },
      "execution_count": 10,
      "outputs": [
        {
          "output_type": "stream",
          "name": "stdout",
          "text": [
            "Longitud: 1, Tiempo de ejecución: 0.000017 segundos\n",
            "Longitud: 2, Tiempo de ejecución: 0.000017 segundos\n",
            "Longitud: 3, Tiempo de ejecución: 0.000030 segundos\n",
            "Longitud: 4, Tiempo de ejecución: 0.000062 segundos\n",
            "Longitud: 5, Tiempo de ejecución: 0.000101 segundos\n",
            "Longitud: 6, Tiempo de ejecución: 0.000133 segundos\n",
            "Longitud: 7, Tiempo de ejecución: 0.000202 segundos\n",
            "Longitud: 8, Tiempo de ejecución: 0.000286 segundos\n",
            "Longitud: 9, Tiempo de ejecución: 0.000417 segundos\n",
            "Longitud: 10, Tiempo de ejecución: 0.000511 segundos\n"
          ]
        }
      ]
    },
    {
      "cell_type": "code",
      "source": [
        "resultados = demostrar_complejidad_O_n3(grammar, max_len=10)\n",
        "for longitud, operaciones, esperado in resultados:\n",
        "    print(f\"Longitud: {longitud}, Operaciones clave: {operaciones}, O(n^3) esperado: {esperado}\")"
      ],
      "metadata": {
        "colab": {
          "base_uri": "https://localhost:8080/"
        },
        "id": "JZGw1yk-pW62",
        "outputId": "ce147071-b402-4718-a80f-238540c1cfe9"
      },
      "execution_count": 11,
      "outputs": [
        {
          "output_type": "stream",
          "name": "stdout",
          "text": [
            "Longitud: 1, Operaciones clave: 2, O(n^3) esperado: 1\n",
            "Longitud: 2, Operaciones clave: 5, O(n^3) esperado: 8\n",
            "Longitud: 3, Operaciones clave: 12, O(n^3) esperado: 27\n",
            "Longitud: 4, Operaciones clave: 18, O(n^3) esperado: 64\n",
            "Longitud: 5, Operaciones clave: 25, O(n^3) esperado: 125\n",
            "Longitud: 6, Operaciones clave: 31, O(n^3) esperado: 216\n",
            "Longitud: 7, Operaciones clave: 45, O(n^3) esperado: 343\n",
            "Longitud: 8, Operaciones clave: 58, O(n^3) esperado: 512\n",
            "Longitud: 9, Operaciones clave: 95, O(n^3) esperado: 729\n",
            "Longitud: 10, Operaciones clave: 96, O(n^3) esperado: 1000\n"
          ]
        }
      ]
    }
  ]
}